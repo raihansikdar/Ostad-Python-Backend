{
 "cells": [
  {
   "cell_type": "markdown",
   "metadata": {},
   "source": [
    "# OOP"
   ]
  },
  {
   "cell_type": "markdown",
   "metadata": {},
   "source": [
    "### basic"
   ]
  },
  {
   "cell_type": "code",
   "execution_count": 1,
   "metadata": {},
   "outputs": [
    {
     "name": "stdout",
     "output_type": "stream",
     "text": [
      "<__main__.Product object at 0x000001A61A060680>\n"
     ]
    }
   ],
   "source": [
    "class Product:\n",
    "    platform = 'Amazon'\n",
    "\n",
    "\n",
    "ob = Product()\n",
    "print(ob)"
   ]
  },
  {
   "cell_type": "code",
   "execution_count": 2,
   "metadata": {},
   "outputs": [
    {
     "name": "stdout",
     "output_type": "stream",
     "text": [
      "Amazon\n"
     ]
    }
   ],
   "source": [
    "class Product:\n",
    "    platform = 'Amazon'\n",
    "\n",
    "\n",
    "ob = Product()\n",
    "print(ob.platform)"
   ]
  },
  {
   "cell_type": "code",
   "execution_count": 3,
   "metadata": {},
   "outputs": [
    {
     "name": "stdout",
     "output_type": "stream",
     "text": [
      "Product(pid= 1001,title= shirt)\n",
      "<class 'int'>\n"
     ]
    }
   ],
   "source": [
    "class Product:\n",
    "    platform = 'Amazon'\n",
    "\n",
    "    def __init__(self,pid: int, title: str, price: float) -> None:\n",
    "        self.pid = pid\n",
    "        self.title = title\n",
    "        self.price = price\n",
    "\n",
    "    def __str__(self) -> str:\n",
    "        return \"Product(pid= {},title= {})\".format(self.pid,self.title)\n",
    "    \n",
    "\n",
    "\n",
    "ob = Product(pid=1001,title=\"shirt\",price=6000.0)\n",
    "print(ob)\n",
    "print(type(ob.pid))"
   ]
  },
  {
   "cell_type": "markdown",
   "metadata": {},
   "source": [
    "### Optional Data Pass"
   ]
  },
  {
   "cell_type": "code",
   "execution_count": 6,
   "metadata": {},
   "outputs": [
    {
     "name": "stdout",
     "output_type": "stream",
     "text": [
      "Product(pid= 1001,title= shirt, price= 1200.0)\n"
     ]
    }
   ],
   "source": [
    "class Product:\n",
    "    platform = 'Amazon'\n",
    "\n",
    "    def __init__(raihan,pid: int, title: str, price = 1200.0) -> None:\n",
    "        raihan.pid = pid\n",
    "        raihan.title = title\n",
    "        raihan.price = price\n",
    "\n",
    "    def __str__(raihan) -> str:\n",
    "        return \"Product(pid= {},title= {}, price= {})\".format(raihan.pid, raihan.title, raihan.price)\n",
    "    \n",
    "\n",
    "\n",
    "ob = Product(pid=1001,title=\"shirt\")\n",
    "print(ob)\n"
   ]
  },
  {
   "cell_type": "markdown",
   "metadata": {},
   "source": [
    "### print in class"
   ]
  },
  {
   "cell_type": "code",
   "execution_count": 4,
   "metadata": {},
   "outputs": [
    {
     "data": {
      "text/plain": [
       "Product(pid= 1001,title= shirt)"
      ]
     },
     "execution_count": 4,
     "metadata": {},
     "output_type": "execute_result"
    }
   ],
   "source": [
    "class Product:\n",
    "    platform = 'Amazon'\n",
    "\n",
    "    def __init__(self,pid: int, title: str, price:float) -> None:\n",
    "        self.pid = pid\n",
    "        self.title = title\n",
    "        self.price = price\n",
    "\n",
    "    def __str__(self) -> str:\n",
    "        return \"Product(pid= {},title= {})\".format(self.pid,self.title)\n",
    "    \n",
    "    def __repr__(self) -> str:\n",
    "        return \"Product(pid= {},title= {})\".format(self.pid,self.title)\n",
    "    \n",
    "\n",
    "\n",
    "ob = Product(pid=1001,title=\"shirt\",price=6000.0)\n",
    "ob"
   ]
  },
  {
   "cell_type": "code",
   "execution_count": 5,
   "metadata": {},
   "outputs": [],
   "source": [
    "class Product:\n",
    "    platform = 'Amazon'\n",
    "\n",
    "    def __init__(self,pid: int, title: str, price:float) -> None:\n",
    "        self.pid = pid\n",
    "        self.title = title\n",
    "        self.price = price\n",
    "\n",
    "    def getInfo(self) -> str:\n",
    "        return \"Product(pid= {},title= {},price= {})\".format(self.pid,self.title,self.price)\n",
    "\n",
    "    def __str__(self) -> str:\n",
    "        return \"Product(pid= {}, price= {})\".format(self.pid,self.price)\n",
    "    \n",
    "    def __repr__(self) -> str:\n",
    "        return \"Product(pid= {},title= {},price= {})\".format(self.pid,self.title,self.price)\n"
   ]
  },
  {
   "cell_type": "code",
   "execution_count": 6,
   "metadata": {},
   "outputs": [],
   "source": [
    "ob = Product(pid=1001,title=\"shirt\",price=6000.0)\n",
    "ob1 = Product(pid=1002,title=\"shirt-2\",price=8000.0)"
   ]
  },
  {
   "cell_type": "code",
   "execution_count": 7,
   "metadata": {},
   "outputs": [
    {
     "name": "stdout",
     "output_type": "stream",
     "text": [
      "Product(pid= 1001, price= 6000.0)\n",
      "Product(pid= 1002, price= 8000.0)\n"
     ]
    }
   ],
   "source": [
    "print(ob)\n",
    "print(ob1)"
   ]
  },
  {
   "cell_type": "code",
   "execution_count": 8,
   "metadata": {},
   "outputs": [
    {
     "name": "stdout",
     "output_type": "stream",
     "text": [
      "Amazon\n",
      "Amazon\n"
     ]
    }
   ],
   "source": [
    "print(ob.platform)\n",
    "print(ob1.platform)"
   ]
  },
  {
   "cell_type": "code",
   "execution_count": 9,
   "metadata": {},
   "outputs": [
    {
     "name": "stdout",
     "output_type": "stream",
     "text": [
      "<class 'float'>\n"
     ]
    }
   ],
   "source": [
    "print(type(ob.price))"
   ]
  },
  {
   "cell_type": "code",
   "execution_count": 10,
   "metadata": {},
   "outputs": [
    {
     "data": {
      "text/plain": [
       "'Product(pid= 1001,title= shirt,price= 6000.0)'"
      ]
     },
     "execution_count": 10,
     "metadata": {},
     "output_type": "execute_result"
    }
   ],
   "source": [
    "ob.getInfo()"
   ]
  },
  {
   "cell_type": "markdown",
   "metadata": {},
   "source": [
    "## Setter Getter"
   ]
  },
  {
   "cell_type": "code",
   "execution_count": null,
   "metadata": {},
   "outputs": [],
   "source": [
    "class Product:\n",
    "    platform = 'Amazon'\n",
    "\n",
    "    def __init__(self, pid: int, title: str, price: float) -> None:\n",
    "        self.pid = pid\n",
    "        self.title = title\n",
    "        self.price = price\n",
    "        self.__code = 123\n",
    "   \n",
    "   \n",
    "   # -----------------getter-----------\n",
    "    @property\n",
    "    def code(self) -> int:\n",
    "        return self.__code    \n",
    "    \n",
    "   # -----------------setter-----------\n",
    "    @code.setter\n",
    "    def code(self,new) -> None:\n",
    "        self.__code = new\n",
    "    \n",
    "    # -----------------deleter-----------\n",
    "    @code.deleter\n",
    "    def code(self) -> None:\n",
    "        del self.__code\n",
    "\n",
    "\n",
    "    def getInfo(self) -> str:\n",
    "        return \"Product(pid= {},title= {},price= {})\".format(self.pid,self.title,self.price)\n",
    "\n",
    "    def __str__(self) -> str:\n",
    "        return \"Product(pid= {}, price= {})\".format(self.pid,self.price)\n",
    "    \n",
    "    def __repr__(self) -> str:\n",
    "        return \"Product(pid= {},title= {},price= {})\".format(self.pid,self.title,self.price)\n"
   ]
  },
  {
   "cell_type": "code",
   "execution_count": 12,
   "metadata": {},
   "outputs": [],
   "source": [
    "ob = Product(pid=1001,title=\"shirt\",price=6000.0)\n",
    "ob1 = Product(pid=1002,title=\"shirt-2\",price=8000.0)"
   ]
  },
  {
   "cell_type": "code",
   "execution_count": 13,
   "metadata": {},
   "outputs": [
    {
     "data": {
      "text/plain": [
       "123"
      ]
     },
     "execution_count": 13,
     "metadata": {},
     "output_type": "execute_result"
    }
   ],
   "source": [
    "ob.code"
   ]
  },
  {
   "cell_type": "code",
   "execution_count": 14,
   "metadata": {},
   "outputs": [
    {
     "data": {
      "text/plain": [
       "1022"
      ]
     },
     "execution_count": 14,
     "metadata": {},
     "output_type": "execute_result"
    }
   ],
   "source": [
    "ob.code = 1022\n",
    "ob.code"
   ]
  },
  {
   "cell_type": "code",
   "execution_count": 15,
   "metadata": {},
   "outputs": [
    {
     "data": {
      "text/plain": [
       "1022"
      ]
     },
     "execution_count": 15,
     "metadata": {},
     "output_type": "execute_result"
    }
   ],
   "source": [
    "ob.code"
   ]
  },
  {
   "cell_type": "code",
   "execution_count": 16,
   "metadata": {},
   "outputs": [],
   "source": [
    "del ob.code"
   ]
  },
  {
   "cell_type": "markdown",
   "metadata": {},
   "source": [
    "## Class Method\n"
   ]
  },
  {
   "cell_type": "code",
   "execution_count": 17,
   "metadata": {},
   "outputs": [],
   "source": [
    "class Product:\n",
    "    platform = 'Amazon'\n",
    "\n",
    "    def __init__(self,pid: int, title: str, price:float) -> None:\n",
    "        self.pid = pid\n",
    "        self.title = title\n",
    "        self.price = price\n",
    "      \n",
    "    @classmethod\n",
    "    def ObjectFormStr(cls, string: str):\n",
    "        pid, title, price = string.split('-')\n",
    "        return cls(int(pid),title,float(price))\n",
    "    \n",
    "    def __repr__(self) -> str:\n",
    "        return \"Product(pid= {},title= {},price= {})\".format(self.pid,self.title,self.price)"
   ]
  },
  {
   "cell_type": "code",
   "execution_count": 18,
   "metadata": {},
   "outputs": [
    {
     "data": {
      "text/plain": [
       "Product(pid= 1001,title= shirt,price= 6000.0)"
      ]
     },
     "execution_count": 18,
     "metadata": {},
     "output_type": "execute_result"
    }
   ],
   "source": [
    "ob = Product(pid=1001,title=\"shirt\",price=6000.0)\n",
    "ob"
   ]
  },
  {
   "cell_type": "code",
   "execution_count": 19,
   "metadata": {},
   "outputs": [
    {
     "data": {
      "text/plain": [
       "Product(pid= 2002,title= shirt,price= 12000.0)"
      ]
     },
     "execution_count": 19,
     "metadata": {},
     "output_type": "execute_result"
    }
   ],
   "source": [
    "ob = Product.ObjectFormStr('2002-shirt-12000')\n",
    "ob"
   ]
  },
  {
   "cell_type": "markdown",
   "metadata": {},
   "source": [
    "## Static method"
   ]
  },
  {
   "cell_type": "code",
   "execution_count": null,
   "metadata": {},
   "outputs": [],
   "source": [
    "class Product:\n",
    "    platform = 'Amazon'\n",
    "\n",
    "    def __init__(self, pid: int, title: str, price:float) -> None:\n",
    "        self.pid = pid\n",
    "        self.title = title\n",
    "        self.price = price\n",
    "      \n",
    "    @staticmethod\n",
    "    def add(x: int, y: int) -> int:\n",
    "        return x+y\n",
    "    \n",
    "    def __repr__(self) -> str:\n",
    "        return \"Product(pid= {},title= {},price= {})\".format(self.pid,self.title,self.price)"
   ]
  },
  {
   "cell_type": "code",
   "execution_count": 21,
   "metadata": {},
   "outputs": [
    {
     "data": {
      "text/plain": [
       "30"
      ]
     },
     "execution_count": 21,
     "metadata": {},
     "output_type": "execute_result"
    }
   ],
   "source": [
    "Product.add(10,20)"
   ]
  },
  {
   "cell_type": "markdown",
   "metadata": {},
   "source": [
    "## Magic Method"
   ]
  },
  {
   "cell_type": "code",
   "execution_count": 22,
   "metadata": {},
   "outputs": [],
   "source": [
    "class Product:\n",
    "    platform = 'Amazon'\n",
    "\n",
    "    def __init__(self,pid: int, title: str, price:float) -> None:\n",
    "        self.pid = pid\n",
    "        self.title = title\n",
    "        self.price = price\n",
    "      \n",
    "    def __gt__(self,others):\n",
    "        return self.price > others.price\n",
    "    \n",
    "    def __lt__(self,others):\n",
    "        return self.price < others.price\n",
    "    \n",
    "    def __ge__(self,others):\n",
    "        return self.price>=others.price\n",
    "    \n",
    "    def __add__(self, others):\n",
    "        return self.price + others.price\n",
    "    \n",
    "    def __repr__(self) -> str:\n",
    "        return \"Product(pid= {},title= {},price= {})\".format(self.pid,self.title,self.price)"
   ]
  },
  {
   "cell_type": "code",
   "execution_count": 23,
   "metadata": {},
   "outputs": [],
   "source": [
    "ob = Product(pid=1001,title=\"shirt\",price=6000.0)\n",
    "ob1 = Product(pid=1002,title=\"shirt-2\",price=6000.0)"
   ]
  },
  {
   "cell_type": "code",
   "execution_count": 24,
   "metadata": {},
   "outputs": [
    {
     "data": {
      "text/plain": [
       "False"
      ]
     },
     "execution_count": 24,
     "metadata": {},
     "output_type": "execute_result"
    }
   ],
   "source": [
    "ob>ob1"
   ]
  },
  {
   "cell_type": "code",
   "execution_count": 25,
   "metadata": {},
   "outputs": [
    {
     "data": {
      "text/plain": [
       "True"
      ]
     },
     "execution_count": 25,
     "metadata": {},
     "output_type": "execute_result"
    }
   ],
   "source": [
    "ob>=ob1"
   ]
  },
  {
   "cell_type": "code",
   "execution_count": 26,
   "metadata": {},
   "outputs": [
    {
     "data": {
      "text/plain": [
       "12000.0"
      ]
     },
     "execution_count": 26,
     "metadata": {},
     "output_type": "execute_result"
    }
   ],
   "source": [
    "ob+ob1"
   ]
  },
  {
   "cell_type": "markdown",
   "metadata": {},
   "source": [
    "## Inheritance"
   ]
  },
  {
   "cell_type": "code",
   "execution_count": null,
   "metadata": {},
   "outputs": [],
   "source": [
    "class Product:\n",
    "    platform = 'Amazon'\n",
    "\n",
    "    def __init__(self, pid: int, title: str, price:float) -> None:\n",
    "        self.pid = pid\n",
    "        self.title = title\n",
    "        self.price = price\n",
    "      \n",
    "    @staticmethod\n",
    "    def add(x: int, y: int) -> int:\n",
    "        return x+y\n",
    "    \n",
    "    def __repr__(self) -> str:\n",
    "        return \"Product(pid= {},title= {},price= {})\".format(self.pid,self.title,self.price)"
   ]
  },
  {
   "cell_type": "code",
   "execution_count": null,
   "metadata": {},
   "outputs": [],
   "source": [
    "class Cloth(Product):\n",
    "    pass"
   ]
  },
  {
   "cell_type": "code",
   "execution_count": 5,
   "metadata": {},
   "outputs": [
    {
     "data": {
      "text/plain": [
       "6"
      ]
     },
     "execution_count": 5,
     "metadata": {},
     "output_type": "execute_result"
    }
   ],
   "source": [
    "obCl = Cloth(101,'T-shirt',12000.0)\n",
    "obCl.title\n",
    "obCl.add(1,5)"
   ]
  },
  {
   "cell_type": "code",
   "execution_count": 29,
   "metadata": {},
   "outputs": [],
   "source": [
    "class Product:\n",
    "    platform = 'Amazon'\n",
    "\n",
    "    def __init__(self, pid: int, title: str, price:float) -> None:\n",
    "        self.pid = pid\n",
    "        self.title = title\n",
    "        self.price = price\n",
    "      \n",
    "    @staticmethod\n",
    "    def add(x: int, y: int) -> int:\n",
    "        return x+y\n",
    "    \n",
    "    def __repr__(self) -> str:\n",
    "        return \"Product(pid= {},title= {},price= {})\".format(self.pid,self.title,self.price)\n",
    "\n",
    "\n",
    "\n",
    "class Cloth(Product):\n",
    "    def __init__(self, pid: int, title: str, price: float,size: str):\n",
    "        self.size = size\n",
    "        super().__init__(pid, title, price)\n",
    "    \n",
    "    def __repr__(self) -> str:\n",
    "        return \"Product(pid= {},title= {},price= {}, size= {})\".format(self.pid,self.title,self.price,self.size)"
   ]
  },
  {
   "cell_type": "code",
   "execution_count": 30,
   "metadata": {},
   "outputs": [
    {
     "data": {
      "text/plain": [
       "Product(pid= 101,title= T-shirt,price= 12000.0, size= xxxl)"
      ]
     },
     "execution_count": 30,
     "metadata": {},
     "output_type": "execute_result"
    }
   ],
   "source": [
    "obCl = Cloth(101,'T-shirt',12000.0,size= \"xxxl\")\n",
    "obCl"
   ]
  },
  {
   "cell_type": "code",
   "execution_count": 31,
   "metadata": {},
   "outputs": [
    {
     "data": {
      "text/plain": [
       "'Amazon'"
      ]
     },
     "execution_count": 31,
     "metadata": {},
     "output_type": "execute_result"
    }
   ],
   "source": [
    "obCl.platform"
   ]
  },
  {
   "cell_type": "code",
   "execution_count": 32,
   "metadata": {},
   "outputs": [
    {
     "data": {
      "text/plain": [
       "(__main__.Cloth, __main__.Product, object)"
      ]
     },
     "execution_count": 32,
     "metadata": {},
     "output_type": "execute_result"
    }
   ],
   "source": [
    "Cloth.__mro__"
   ]
  },
  {
   "cell_type": "markdown",
   "metadata": {},
   "source": [
    "## Multi Level Inheritance"
   ]
  },
  {
   "cell_type": "code",
   "execution_count": 35,
   "metadata": {},
   "outputs": [],
   "source": [
    "class Product:\n",
    "\n",
    "    def __init__(self,id: int, title: str,price: float) -> None:\n",
    "        self.id = id\n",
    "        self.title = title\n",
    "        self.price = price\n",
    "    \n",
    "    def __repr__(self) -> str:\n",
    "        return f\"Product(id:{self.id},title:{self.title},price:{self.price})\"\n",
    "\n",
    "        \n",
    "\n",
    "class Cloth(Product):\n",
    "\n",
    "    def __init__(self, id: int, title: str, price: float,size: str) -> None:\n",
    "        self.size = size\n",
    "        super().__init__(id, title, price)\n",
    "    \n",
    "    # overriding of it's parents __repr__() method\n",
    "    def __repr__(self) -> str:\n",
    "        return f\"Product(id:{self.id},title:{self.title},price:{self.price},size:{self.size})\"\n",
    "\n",
    "class TopWare(Cloth):\n",
    "    def __init__(self, id: int, title: str, price: float, size: str, febric: str):\n",
    "        self.febric = febric\n",
    "        super().__init__(id, title, price, size)\n",
    "    \n",
    "    # overriding of it's parents Cloth __repr__() method\n",
    "    def __repr__(self) -> str:\n",
    "        return f\"Product(id: {self.id},title: {self.title},price: {self.price},size: {self.size}, febric: {self.febric})\"\n",
    "    "
   ]
  },
  {
   "cell_type": "code",
   "execution_count": 36,
   "metadata": {},
   "outputs": [
    {
     "data": {
      "text/plain": [
       "Product(id: 101,title: T-shirt,price: 12000.0,size: xxxl, febric: cotton)"
      ]
     },
     "execution_count": 36,
     "metadata": {},
     "output_type": "execute_result"
    }
   ],
   "source": [
    "obT = TopWare(101,'T-shirt',12000.0,size= \"xxxl\",febric= 'cotton')\n",
    "obT"
   ]
  },
  {
   "cell_type": "markdown",
   "metadata": {},
   "source": [
    "## Multiple Inheritance"
   ]
  },
  {
   "cell_type": "code",
   "execution_count": null,
   "metadata": {},
   "outputs": [],
   "source": [
    "class Product:\n",
    "    paltform = \"Amazon\"\n",
    "\n",
    "    def __init__(self,id: int, title: str, price: float):\n",
    "        self.id = id\n",
    "        self.title = title\n",
    "        self.price = price\n",
    "    \n",
    "    def __repr__(self):\n",
    "         return f\"Product(id:{self.id},title:{self.title},price:{self.price})\" # i have to give this\n",
    "    \n",
    "class Seller:\n",
    "    def __init__(self, s_id: int, s_name: str):\n",
    "        self.s_id = s_id\n",
    "        self.s_name =s_name\n",
    "    \n",
    "\n",
    "class Cloth(Product,Seller):\n",
    "    def __init__(self, id, title, price,s_id,s_name,size,):\n",
    "        self.size = size\n",
    "        Product.__init__(self, id, title, price)\n",
    "        Seller.__init__(self,s_id,s_name)\n",
    "\n",
    "    \n",
    "    def get_product_info(self):\n",
    "        return Product.__repr__(self) # To show this \n",
    "    \n",
    "\n",
    "    def __repr__(self):\n",
    "        # return super().__repr__()\n",
    "        return f\"Product(id:{self.id}, title:{self.title}, price:{self.price}, size:{self.size}, s_id:{self.s_id}, s_name:{self.s_name})\"\n"
   ]
  },
  {
   "cell_type": "code",
   "execution_count": 11,
   "metadata": {},
   "outputs": [
    {
     "data": {
      "text/plain": [
       "Product(id:101, title:T-shirt, price:1200.0, size:XXXL, s_id:8001, s_name:Md Sakil)"
      ]
     },
     "execution_count": 11,
     "metadata": {},
     "output_type": "execute_result"
    }
   ],
   "source": [
    "p1 = Cloth(101,'T-shirt',1200.00,8001,'Md Sakil','XXXL')\n",
    "p1"
   ]
  },
  {
   "cell_type": "code",
   "execution_count": 12,
   "metadata": {},
   "outputs": [
    {
     "data": {
      "text/plain": [
       "'Product(id:101,title:T-shirt,price:1200.0)'"
      ]
     },
     "execution_count": 12,
     "metadata": {},
     "output_type": "execute_result"
    }
   ],
   "source": [
    "p1.get_product_info()"
   ]
  },
  {
   "cell_type": "code",
   "execution_count": null,
   "metadata": {},
   "outputs": [],
   "source": []
  }
 ],
 "metadata": {
  "kernelspec": {
   "display_name": "Python 3",
   "language": "python",
   "name": "python3"
  },
  "language_info": {
   "codemirror_mode": {
    "name": "ipython",
    "version": 3
   },
   "file_extension": ".py",
   "mimetype": "text/x-python",
   "name": "python",
   "nbconvert_exporter": "python",
   "pygments_lexer": "ipython3",
   "version": "3.12.4"
  }
 },
 "nbformat": 4,
 "nbformat_minor": 2
}
