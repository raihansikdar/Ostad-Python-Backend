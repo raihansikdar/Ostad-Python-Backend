{
 "cells": [
  {
   "cell_type": "markdown",
   "metadata": {},
   "source": [
    "## Bubble Sort Algorithm"
   ]
  },
  {
   "cell_type": "code",
   "execution_count": 7,
   "metadata": {},
   "outputs": [
    {
     "name": "stdout",
     "output_type": "stream",
     "text": [
      "8\n",
      "7\n",
      "Sorted array:  [5, 11, 12, 22, 25, 34, 64, 90]\n"
     ]
    }
   ],
   "source": [
    "py_array = [64, 34, 25, 12, 22, 11, 90, 5]\n",
    "\n",
    "n = len(py_array)\n",
    "\n",
    "print(n)\n",
    "print(n-1)\n",
    "\n",
    "for i in range(n-1):\n",
    "    for j in range(n-i-1):\n",
    "        if py_array[j] > py_array[j+1]:\n",
    "            py_array[j],py_array[j+1] = py_array[j+1],py_array[j]\n",
    "\n",
    "print(\"Sorted array: \",py_array)"
   ]
  },
  {
   "cell_type": "markdown",
   "metadata": {},
   "source": [
    "## Selection Sort Algorithm"
   ]
  },
  {
   "cell_type": "code",
   "execution_count": 1,
   "metadata": {},
   "outputs": [
    {
     "name": "stdout",
     "output_type": "stream",
     "text": [
      "8\n",
      "7\n",
      "[5, 11, 12, 22, 25, 34, 64, 90]\n"
     ]
    }
   ],
   "source": [
    "py_array = [64, 34, 25, 12, 22, 11, 90, 5]\n",
    "\n",
    "n = len(py_array)\n",
    "\n",
    "print(n)\n",
    "print(n-1)\n",
    "\n",
    "min_index = py_array[0]\n",
    "\n",
    "for i in range(n-1):\n",
    "  min_index  = i\n",
    "  for j in range(i+1,n):\n",
    "    if py_array[min_index] > py_array[j]:\n",
    "      min_index = j\n",
    "  \n",
    "  min_value = py_array.pop(min_index)\n",
    "  py_array.insert(i,min_value)\n",
    "\n",
    "print(py_array)\n",
    "\n",
    "\n"
   ]
  },
  {
   "cell_type": "code",
   "execution_count": 2,
   "metadata": {},
   "outputs": [
    {
     "name": "stdout",
     "output_type": "stream",
     "text": [
      "Price: 600.00\n"
     ]
    }
   ],
   "source": [
    "def calculate_final_price(original_price, discount_percentage):\n",
    "    discount_amount = (original_price * discount_percentage) / 100\n",
    "    final_price = original_price - discount_amount\n",
    "    return round(final_price, 2)\n",
    "\n",
    "\n",
    "user_input = input()\n",
    "original_price, discount_percentage = map(int, user_input.split())\n",
    "\n",
    "final_price = calculate_final_price(original_price, discount_percentage)\n",
    "print(f\"Price: {final_price:.2f}\")\n",
    "\n"
   ]
  },
  {
   "cell_type": "code",
   "execution_count": 3,
   "metadata": {},
   "outputs": [
    {
     "name": "stdout",
     "output_type": "stream",
     "text": [
      "2\n"
     ]
    }
   ],
   "source": [
    "def find_quotient(num1, num2):\n",
    "    return num1 // num2\n",
    "\n",
    "user_input = input()\n",
    "num1, num2 = map(int, user_input.split())\n",
    "\n",
    "quotient = find_quotient(num1, num2)\n",
    "print(quotient)\n"
   ]
  },
  {
   "cell_type": "code",
   "execution_count": 4,
   "metadata": {},
   "outputs": [
    {
     "name": "stdout",
     "output_type": "stream",
     "text": [
      "1\n"
     ]
    }
   ],
   "source": [
    "def find_remainder(num1, num2):\n",
    "    return num1 % num2\n",
    "\n",
    "# Example usage\n",
    "user_input = input()\n",
    "num1, num2 = map(int, user_input.split())\n",
    "\n",
    "remainder = find_remainder(num1, num2)\n",
    "print(remainder)\n"
   ]
  },
  {
   "cell_type": "code",
   "execution_count": 5,
   "metadata": {},
   "outputs": [
    {
     "name": "stdout",
     "output_type": "stream",
     "text": [
      "Hello, Alice! Nice to meet you.\n"
     ]
    }
   ],
   "source": [
    "def personalized_greeting(name):\n",
    "    return f\"Hello, {name}! Nice to meet you.\"\n",
    "\n",
    "name = input(\"What is your name? \")\n",
    "greeting = personalized_greeting(name)\n",
    "print(greeting)\n"
   ]
  }
 ],
 "metadata": {
  "kernelspec": {
   "display_name": "Python 3",
   "language": "python",
   "name": "python3"
  },
  "language_info": {
   "codemirror_mode": {
    "name": "ipython",
    "version": 3
   },
   "file_extension": ".py",
   "mimetype": "text/x-python",
   "name": "python",
   "nbconvert_exporter": "python",
   "pygments_lexer": "ipython3",
   "version": "3.12.6"
  }
 },
 "nbformat": 4,
 "nbformat_minor": 2
}
