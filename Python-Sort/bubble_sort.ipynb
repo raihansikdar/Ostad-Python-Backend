{
 "cells": [
  {
   "cell_type": "markdown",
   "metadata": {},
   "source": [
    "## Bubble Sort"
   ]
  },
  {
   "cell_type": "code",
   "execution_count": null,
   "metadata": {},
   "outputs": [
    {
     "name": "stdout",
     "output_type": "stream",
     "text": [
      "8\n",
      "7\n"
     ]
    }
   ],
   "source": [
    "py_array = [64, 34, 25, 12, 22, 11, 90, 5]\n",
    "\n",
    "n = len(py_array)\n",
    "\n",
    "print(n)\n",
    "print(n-1)\n",
    "\n",
    "for i in range(n):\n",
    "    for j in range(n-i-1):\n",
    "        if py_array[j] > py_array[j+1]:\n",
    "            py_array[j],py_array[j+1] = py_array[j+1],py_array[j]\n",
    "\n",
    "print(\"Sorted array: \",py_array)"
   ]
  }
 ],
 "metadata": {
  "kernelspec": {
   "display_name": "Python 3",
   "language": "python",
   "name": "python3"
  },
  "language_info": {
   "codemirror_mode": {
    "name": "ipython",
    "version": 3
   },
   "file_extension": ".py",
   "mimetype": "text/x-python",
   "name": "python",
   "nbconvert_exporter": "python",
   "pygments_lexer": "ipython3",
   "version": "3.12.4"
  }
 },
 "nbformat": 4,
 "nbformat_minor": 2
}
