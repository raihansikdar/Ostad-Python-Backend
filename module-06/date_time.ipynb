{
 "cells": [
  {
   "cell_type": "code",
   "execution_count": 17,
   "metadata": {},
   "outputs": [
    {
     "name": "stdout",
     "output_type": "stream",
     "text": [
      "2024-12-11 22:21:21.346974\n",
      "2024\n",
      "12\n",
      "11\n",
      "22\n",
      "21\n",
      "2\n",
      "2024-12-11\n",
      "11-12-2024 22:21:21\n"
     ]
    }
   ],
   "source": [
    "import datetime\n",
    "\n",
    "date_time = datetime.datetime.now()\n",
    "print(date_time)\n",
    "print(date_time.year)\n",
    "print(date_time.month)\n",
    "print(date_time.day)\n",
    "print(date_time.hour)\n",
    "print(date_time.minute)\n",
    "print(date_time.weekday())\n",
    "print(date_time.date())\n",
    "\n",
    "formated_date = date_time.strftime(\"%d-%m-%Y %H:%M:%S\")\n",
    "print(formated_date)\n"
   ]
  }
 ],
 "metadata": {
  "kernelspec": {
   "display_name": "Python 3",
   "language": "python",
   "name": "python3"
  },
  "language_info": {
   "codemirror_mode": {
    "name": "ipython",
    "version": 3
   },
   "file_extension": ".py",
   "mimetype": "text/x-python",
   "name": "python",
   "nbconvert_exporter": "python",
   "pygments_lexer": "ipython3",
   "version": "3.12.6"
  }
 },
 "nbformat": 4,
 "nbformat_minor": 2
}
