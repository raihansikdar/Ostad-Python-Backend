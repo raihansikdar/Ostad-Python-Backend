{
 "cells": [
  {
   "cell_type": "markdown",
   "metadata": {},
   "source": [
    "### Create File"
   ]
  },
  {
   "cell_type": "code",
   "execution_count": 8,
   "metadata": {},
   "outputs": [],
   "source": [
    "with open('batch-03.txt',\"w\") as myFile:\n",
    "    myFile.write('first file')"
   ]
  },
  {
   "cell_type": "code",
   "execution_count": 4,
   "metadata": {},
   "outputs": [],
   "source": [
    "with open('batch-03.py',\"w\") as myPythonFile:\n",
    "    myPythonFile.write(\"print('hello world')\")"
   ]
  },
  {
   "cell_type": "markdown",
   "metadata": {},
   "source": [
    "### Read File"
   ]
  },
  {
   "cell_type": "code",
   "execution_count": null,
   "metadata": {},
   "outputs": [
    {
     "name": "stdout",
     "output_type": "stream",
     "text": [
      "first file\n"
     ]
    }
   ],
   "source": [
    "with open('batch-03.txt',\"r\") as myFile:\n",
    "   print( myFile.read())"
   ]
  },
  {
   "cell_type": "markdown",
   "metadata": {},
   "source": [
    "### Remame File"
   ]
  },
  {
   "cell_type": "code",
   "execution_count": 6,
   "metadata": {},
   "outputs": [],
   "source": [
    "import os\n",
    "os.rename(src=\"batch-03.txt\",dst=\"python-batch-03.txt\")"
   ]
  },
  {
   "cell_type": "markdown",
   "metadata": {},
   "source": [
    "### Delete File"
   ]
  },
  {
   "cell_type": "code",
   "execution_count": 9,
   "metadata": {},
   "outputs": [],
   "source": [
    "import os\n",
    "os.remove(\"batch-04.txt\")"
   ]
  },
  {
   "cell_type": "markdown",
   "metadata": {},
   "source": [
    "### Folder Creating"
   ]
  },
  {
   "cell_type": "code",
   "execution_count": 12,
   "metadata": {},
   "outputs": [],
   "source": [
    "import os\n",
    "os.mkdir(\"2024\")\n",
    "os.mkdir(\"2024/11\")\n",
    "with open('2024/11/raihan.png',\"w\") as myFile:\n",
    "    myFile.write(\"\")"
   ]
  },
  {
   "cell_type": "markdown",
   "metadata": {},
   "source": [
    "### Delete Folder"
   ]
  },
  {
   "cell_type": "code",
   "execution_count": 3,
   "metadata": {},
   "outputs": [],
   "source": [
    "import os\n",
    "#os.mkdir(\"2025\")\n",
    "os.rmdir(\"2025\")"
   ]
  },
  {
   "cell_type": "markdown",
   "metadata": {},
   "source": [
    "### Make Zip from Directory"
   ]
  },
  {
   "cell_type": "code",
   "execution_count": 5,
   "metadata": {},
   "outputs": [
    {
     "data": {
      "text/plain": [
       "'d:\\\\Ostad-Python-Backend\\\\module-03\\\\2024_NEW.zip'"
      ]
     },
     "execution_count": 5,
     "metadata": {},
     "output_type": "execute_result"
    }
   ],
   "source": [
    "import shutil\n",
    "shutil.make_archive(\"2024_NEW\",\"zip\",'2024')"
   ]
  },
  {
   "cell_type": "markdown",
   "metadata": {},
   "source": [
    "### Extract"
   ]
  },
  {
   "cell_type": "code",
   "execution_count": 6,
   "metadata": {},
   "outputs": [],
   "source": [
    "import zipfile\n",
    "with zipfile.ZipFile(file=\"2024_NEW.zip\",mode='r') as myZip:\n",
    "    myZip.extractall()"
   ]
  },
  {
   "cell_type": "markdown",
   "metadata": {},
   "source": [
    "CSV File"
   ]
  },
  {
   "cell_type": "code",
   "execution_count": 1,
   "metadata": {},
   "outputs": [],
   "source": [
    "import csv\n",
    "dataItem = [\n",
    "    [\"Name\",\"Salary\"],\n",
    "    [\"Raihan\",30000],\n",
    "    [\"Raiyan\",32000],\n",
    "]\n",
    "\n",
    "with open(\"salary.csv\",mode=\"w\",newline= '') as csvFile:\n",
    "    csvWriter = csv.writer(csvFile)\n",
    "    csvWriter.writerow(dataItem)"
   ]
  },
  {
   "cell_type": "code",
   "execution_count": 2,
   "metadata": {},
   "outputs": [
    {
     "name": "stdout",
     "output_type": "stream",
     "text": [
      "[\"['Name', 'Salary']\", \"['Raihan', 30000]\", \"['Raiyan', 32000]\"]\n"
     ]
    }
   ],
   "source": [
    "import csv \n",
    "\n",
    "with open('salary.csv',mode='r') as myFile:\n",
    "    myFileReader = csv.reader(myFile)\n",
    "\n",
    "    for row in myFileReader:\n",
    "        print(row)"
   ]
  },
  {
   "cell_type": "markdown",
   "metadata": {},
   "source": [
    "My csv"
   ]
  },
  {
   "cell_type": "code",
   "execution_count": 5,
   "metadata": {},
   "outputs": [
    {
     "name": "stdout",
     "output_type": "stream",
     "text": [
      "Dictionary data has been saved to 'salary.csv'\n"
     ]
    }
   ],
   "source": [
    "import csv\n",
    "\n",
    "# Dictionary data\n",
    "dataItem = [\n",
    "    {\"Name\": \"Raihan\", \"Salary\": 30000},\n",
    "    {\"Name\": \"Raiyan\", \"Salary\": 32000},\n",
    "]\n",
    "\n",
    "# Specify the field names (keys of the dictionaries)\n",
    "fieldnames = [\"Name\", \"Salary\"]\n",
    "\n",
    "# Open a CSV file for writing\n",
    "with open(\"salary.csv\", mode=\"w\", newline='') as csvFile:\n",
    "    csvWriter = csv.DictWriter(csvFile, fieldnames=fieldnames)\n",
    "    \n",
    "    # Write the header (column names)\n",
    "    csvWriter.writeheader()\n",
    "    \n",
    "    # Write the dictionary data\n",
    "    csvWriter.writerows(dataItem)\n",
    "\n",
    "print(\"Dictionary data has been saved to 'salary.csv'\")\n"
   ]
  },
  {
   "cell_type": "code",
   "execution_count": 6,
   "metadata": {},
   "outputs": [
    {
     "name": "stdout",
     "output_type": "stream",
     "text": [
      "Data read from 'salary.csv':\n",
      "{'Name': 'Raihan', 'Salary': '30000'}\n",
      "{'Name': 'Raiyan', 'Salary': '32000'}\n"
     ]
    }
   ],
   "source": [
    "import csv\n",
    "\n",
    "# Read the CSV file\n",
    "dataItem = []  # Initialize an empty list to store the rows\n",
    "with open(\"salary.csv\", mode=\"r\") as csvFile:\n",
    "    csvReader = csv.DictReader(csvFile)\n",
    "    \n",
    "    # Use a for loop to iterate through each row\n",
    "    for row in csvReader:\n",
    "        dataItem.append(row)  # Append each row (as a dictionary) to the list\n",
    "\n",
    "print(\"Data read from 'salary.csv':\")\n",
    "for item in dataItem:\n",
    "    print(item)\n"
   ]
  }
 ],
 "metadata": {
  "kernelspec": {
   "display_name": "Python 3",
   "language": "python",
   "name": "python3"
  },
  "language_info": {
   "codemirror_mode": {
    "name": "ipython",
    "version": 3
   },
   "file_extension": ".py",
   "mimetype": "text/x-python",
   "name": "python",
   "nbconvert_exporter": "python",
   "pygments_lexer": "ipython3",
   "version": "3.12.6"
  }
 },
 "nbformat": 4,
 "nbformat_minor": 2
}
